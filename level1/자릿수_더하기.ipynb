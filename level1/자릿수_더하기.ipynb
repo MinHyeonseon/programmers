{
  "nbformat": 4,
  "nbformat_minor": 0,
  "metadata": {
    "colab": {
      "provenance": []
    },
    "kernelspec": {
      "name": "python3",
      "display_name": "Python 3"
    },
    "language_info": {
      "name": "python"
    }
  },
  "cells": [
    {
      "cell_type": "code",
      "source": [
        "def solution(n):\n",
        "    answer = 0\n",
        "    for i in str(n):\n",
        "        answer += int(i)\n",
        "    return answer\n"
      ],
      "metadata": {
        "id": "9iGqbkCLx7FC"
      },
      "execution_count": 13,
      "outputs": []
    }
  ]
}