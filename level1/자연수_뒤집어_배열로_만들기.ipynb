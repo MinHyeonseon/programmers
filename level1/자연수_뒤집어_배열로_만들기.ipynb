{
  "nbformat": 4,
  "nbformat_minor": 0,
  "metadata": {
    "colab": {
      "provenance": []
    },
    "kernelspec": {
      "name": "python3",
      "display_name": "Python 3"
    },
    "language_info": {
      "name": "python"
    }
  },
  "cells": [
    {
      "cell_type": "code",
      "source": [
        "def solution(n):\n",
        "    answer = str(n)[::-1]\n",
        "    arr = []\n",
        "    \n",
        "    for i in answer:\n",
        "        arr.append(int(i))    \n",
        "        \n",
        "    return arr"
      ],
      "metadata": {
        "id": "9iGqbkCLx7FC"
      },
      "execution_count": 13,
      "outputs": []
    }
  ]
}