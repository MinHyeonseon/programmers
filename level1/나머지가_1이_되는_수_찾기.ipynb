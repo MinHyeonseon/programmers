{
  "nbformat": 4,
  "nbformat_minor": 0,
  "metadata": {
    "colab": {
      "provenance": []
    },
    "kernelspec": {
      "name": "python3",
      "display_name": "Python 3"
    },
    "language_info": {
      "name": "python"
    }
  },
  "cells": [
    {
      "cell_type": "code",
      "source": [
        "def solution(n):\n",
        "    for i in range(1, n):\n",
        "        if n%i==1:\n",
        "            answer = 0\n",
        "            answer += i\n",
        "            return answer"
      ],
      "metadata": {
        "id": "MiMnBFe60wDV"
      },
      "execution_count": null,
      "outputs": []
    }
  ]
}