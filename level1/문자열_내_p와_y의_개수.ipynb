{
  "nbformat": 4,
  "nbformat_minor": 0,
  "metadata": {
    "colab": {
      "provenance": []
    },
    "kernelspec": {
      "name": "python3",
      "display_name": "Python 3"
    },
    "language_info": {
      "name": "python"
    }
  },
  "cells": [
    {
      "cell_type": "code",
      "source": [
        "def solution(s):\n",
        "    answer = True\n",
        "    P = 0\n",
        "    Y = 0\n",
        "    for i in(s):\n",
        "        if i=='p' or i=='P':\n",
        "            P +=1\n",
        "        elif i=='y' or i=='Y':\n",
        "            Y +=1\n",
        "        \n",
        "    if P == Y:\n",
        "        return True\n",
        "    else:\n",
        "        return False    "
      ],
      "metadata": {
        "id": "inNW52EPnTZr"
      },
      "execution_count": null,
      "outputs": []
    }
  ]
}