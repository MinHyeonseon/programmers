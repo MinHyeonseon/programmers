{
  "nbformat": 4,
  "nbformat_minor": 0,
  "metadata": {
    "colab": {
      "provenance": []
    },
    "kernelspec": {
      "name": "python3",
      "display_name": "Python 3"
    },
    "language_info": {
      "name": "python"
    }
  },
  "cells": [
    {
      "cell_type": "code",
      "source": [
        "def solution(n):\n",
        "    sum = 0\n",
        "    \n",
        "    for i in range(1, n+1):\n",
        "        if n % i == 0:\n",
        "            sum += i\n",
        "    \n",
        "    return sum"
      ],
      "metadata": {
        "id": "9iGqbkCLx7FC"
      },
      "execution_count": null,
      "outputs": []
    }
  ]
}