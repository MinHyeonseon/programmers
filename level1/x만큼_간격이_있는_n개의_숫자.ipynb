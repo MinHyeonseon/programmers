{
  "nbformat": 4,
  "nbformat_minor": 0,
  "metadata": {
    "colab": {
      "provenance": []
    },
    "kernelspec": {
      "name": "python3",
      "display_name": "Python 3"
    },
    "language_info": {
      "name": "python"
    }
  },
  "cells": [
    {
      "cell_type": "code",
      "source": [
        "def solution(x, n):\n",
        "    answer = []\n",
        "    tmp = 0\n",
        "    for i in range(n):\n",
        "        tmp+=x\n",
        "        answer.append(tmp)\n",
        "    return answer"
      ],
      "metadata": {
        "id": "9iGqbkCLx7FC"
      },
      "execution_count": 13,
      "outputs": []
    }
  ]
}