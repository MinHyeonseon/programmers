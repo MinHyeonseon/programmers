{
  "nbformat": 4,
  "nbformat_minor": 0,
  "metadata": {
    "colab": {
      "provenance": []
    },
    "kernelspec": {
      "name": "python3",
      "display_name": "Python 3"
    },
    "language_info": {
      "name": "python"
    }
  },
  "cells": [
    {
      "cell_type": "code",
      "source": [
        "def solution(s):\n",
        "    for i in s:\n",
        "        answer = 0\n",
        "        answer+=int(s)\n",
        "    return answer"
      ],
      "metadata": {
        "id": "inNW52EPnTZr"
      },
      "execution_count": null,
      "outputs": []
    }
  ]
}