{
  "nbformat": 4,
  "nbformat_minor": 0,
  "metadata": {
    "colab": {
      "provenance": []
    },
    "kernelspec": {
      "name": "python3",
      "display_name": "Python 3"
    },
    "language_info": {
      "name": "python"
    }
  },
  "cells": [
    {
      "cell_type": "code",
      "execution_count": null,
      "metadata": {
        "id": "t0wVV8f6m6U4"
      },
      "outputs": [],
      "source": [
        "def solution(arr):\n",
        "    return sum(arr)/len(arr)"
      ]
    }
  ]
}