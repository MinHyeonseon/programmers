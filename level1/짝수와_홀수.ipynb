{
  "nbformat": 4,
  "nbformat_minor": 0,
  "metadata": {
    "colab": {
      "provenance": []
    },
    "kernelspec": {
      "name": "python3",
      "display_name": "Python 3"
    },
    "language_info": {
      "name": "python"
    }
  },
  "cells": [
    {
      "cell_type": "code",
      "source": [
        "def solution(num):\n",
        "    if num%2==0:\n",
        "        return 'Even'\n",
        "    else: return 'Odd'"
      ],
      "metadata": {
        "id": "9iGqbkCLx7FC"
      },
      "execution_count": 7,
      "outputs": []
    }
  ]
}