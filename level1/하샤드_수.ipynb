{
  "nbformat": 4,
  "nbformat_minor": 0,
  "metadata": {
    "colab": {
      "provenance": []
    },
    "kernelspec": {
      "name": "python3",
      "display_name": "Python 3"
    },
    "language_info": {
      "name": "python"
    }
  },
  "cells": [
    {
      "cell_type": "code",
      "source": [
        "def solution(x):\n",
        "    arr = list(str(x))\n",
        "    sum_ = 0\n",
        "    for i in range (len(arr)) :\n",
        "        sum_ += int(arr[i])\n",
        "    if x%sum_ ==0:\n",
        "        answer = True\n",
        "    else:\n",
        "        answer = False\n",
        "    return answer"
      ],
      "metadata": {
        "id": "MiMnBFe60wDV"
      },
      "execution_count": null,
      "outputs": []
    }
  ]
}