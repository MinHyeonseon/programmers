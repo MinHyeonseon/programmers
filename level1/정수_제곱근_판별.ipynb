{
  "nbformat": 4,
  "nbformat_minor": 0,
  "metadata": {
    "colab": {
      "provenance": []
    },
    "kernelspec": {
      "name": "python3",
      "display_name": "Python 3"
    },
    "language_info": {
      "name": "python"
    }
  },
  "cells": [
    {
      "cell_type": "code",
      "source": [
        "def solution(n):\n",
        "    x = n ** (1/2)\n",
        "    if x % 1 == 0:\n",
        "        return (x + 1) ** 2\n",
        "    return -1"
      ],
      "metadata": {
        "id": "inNW52EPnTZr"
      },
      "execution_count": null,
      "outputs": []
    }
  ]
}